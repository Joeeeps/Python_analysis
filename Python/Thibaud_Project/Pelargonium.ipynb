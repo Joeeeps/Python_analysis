{
 "cells": [
  {
   "cell_type": "markdown",
   "metadata": {},
   "source": [
    "Recreation of the Pelargonium2.0.R script I wrote at LMU.\n",
    "\n",
    "This script:\n",
    "\n",
    "1) Calculated free acid (FA) of various Pelargonium plants in order to assess the strength of the CAM response under a variety of different climatic conditions.\n",
    "\n",
    "2) Separated FA by morning and evening results.\n",
    "\n",
    "3) Calculated the absolute difference between morning and night FA for each sample\n",
    "\n",
    "4) Calculated the relative difference between morning and night FA for each sample\n",
    "\n",
    "5) Filtered Pelargonium results by species and plotted a graph for each listing the FA (morning/night), the absolute and percentage difference for these samples (accounting for different timepoints) and was wrote in a way that any new data added to the Pelargonium.csv would automatically produce another graph without needing to edit the script further.\n",
    "\n",
    "Packages used (R): Tidyverse "
   ]
  },
  {
   "cell_type": "code",
   "execution_count": 67,
   "metadata": {},
   "outputs": [],
   "source": [
    "#Importing packages for analysis\n",
    "import pandas as pd #pandas is a Python library (py terminology for package) whihc can help with data analysis, cleaning, manipulating and exploration\n",
    "import matplotlib.pyplot as plt #matplotlib is a library for creating various visualisations\n",
    "import seaborn as sns #assists in the creation of attractive and informative statistical graphs\n",
    "import os #provides functions for interacting with the operating system"
   ]
  },
  {
   "cell_type": "code",
   "execution_count": 68,
   "metadata": {},
   "outputs": [
    {
     "data": {
      "text/plain": [
       "'/home/joe/Desktop/Coding/Python/Thibaud_Project'"
      ]
     },
     "execution_count": 68,
     "metadata": {},
     "output_type": "execute_result"
    }
   ],
   "source": [
    "#Setting the working directory\n",
    "os.chdir(\"/home/joe/Desktop/Coding/Python/Thibaud_Project\")\n",
    "os.getcwd() #check if wd properly set, note this doesn't output within this jupyter cell for some reason\n"
   ]
  },
  {
   "cell_type": "code",
   "execution_count": 69,
   "metadata": {},
   "outputs": [
    {
     "name": "stdout",
     "output_type": "stream",
     "text": [
      "<class 'pandas.core.frame.DataFrame'>\n",
      "RangeIndex: 65 entries, 0 to 64\n",
      "Data columns (total 10 columns):\n",
      " #   Column             Non-Null Count  Dtype  \n",
      "---  ------             --------------  -----  \n",
      " 0   probe              65 non-null     object \n",
      " 1   time_of_day        65 non-null     object \n",
      " 2   initial_condition  65 non-null     object \n",
      " 3   treatment          65 non-null     object \n",
      " 4   species            65 non-null     object \n",
      " 5   species_treatment  65 non-null     object \n",
      " 6   timepoint          65 non-null     int64  \n",
      " 7   FW                 65 non-null     float64\n",
      " 8   VNaOH              65 non-null     int64  \n",
      " 9   replicate          65 non-null     object \n",
      "dtypes: float64(1), int64(2), object(7)\n",
      "memory usage: 5.2+ KB\n",
      "None\n"
     ]
    }
   ],
   "source": [
    "#Load in the Pelargonium data set \n",
    "pelargonium = pd.read_csv(\"TitrationPelargonium.csv\")  #read the csv\n",
    "print(pelargonium.info()) #viewing the variables and data within our .csv, remove \".info()\" to view data in its entirety "
   ]
  },
  {
   "cell_type": "markdown",
   "metadata": {},
   "source": [
    "Now we set our working directory and imported our Pelargonium data, it is time to do some calculations to find the FA for each sample.\n",
    "\n",
    "Notes:\n",
    "Probe = Sample name\n",
    "Time of day = Morning or evening (10am/pm collection)\n",
    "Initial condition = Climate condition at timepoint 0\n",
    "Treatment = Treatment condition (control = no change)\n",
    "Species = Name of species\n",
    "Species_treatment = Name of species, including treatment information\n",
    "Timepoint = Week of study\n",
    "FW = Fresh weight of sample (cuttings of leaf or stem)\n",
    "VNaOH = Volume of Sodium Hydroxide required to balance titration\n",
    "Replicate = Identifier of sample batch \n",
    "\n",
    "What we need however, is to calculate Free Acidity (FA). The formulas for these calculations was given to me by a member of LMU. \n",
    "\n",
    "I did this in R with the following command:\n",
    "\n",
    "Pelargonium$FA <- ((0.00001*Pelargonium$VNaOH/1000)*3.5)/(Pelargonium$FW/1000)*1000000\n",
    "pelargonium[\"FA\"] = ((0.00001 * pelargonium[\"VNaOH\"] / 1000) * 3.5) / (pelargonium[\"FW\"] / 1000) * 1000000\n",
    "\n",
    "Is reasonably similar and achieves the same result in python, using [\"FA\"] in place of pelargonium$FA for exampe"
   ]
  },
  {
   "cell_type": "code",
   "execution_count": 70,
   "metadata": {},
   "outputs": [
    {
     "name": "stdout",
     "output_type": "stream",
     "text": [
      "<class 'pandas.core.frame.DataFrame'>\n",
      "RangeIndex: 65 entries, 0 to 64\n",
      "Data columns (total 11 columns):\n",
      " #   Column             Non-Null Count  Dtype  \n",
      "---  ------             --------------  -----  \n",
      " 0   probe              65 non-null     object \n",
      " 1   time_of_day        65 non-null     object \n",
      " 2   initial_condition  65 non-null     object \n",
      " 3   treatment          65 non-null     object \n",
      " 4   species            65 non-null     object \n",
      " 5   species_treatment  65 non-null     object \n",
      " 6   timepoint          65 non-null     int64  \n",
      " 7   FW                 65 non-null     float64\n",
      " 8   VNaOH              65 non-null     int64  \n",
      " 9   replicate          65 non-null     object \n",
      " 10  FA                 65 non-null     float64\n",
      "dtypes: float64(2), int64(2), object(7)\n",
      "memory usage: 5.7+ KB\n",
      "None\n"
     ]
    }
   ],
   "source": [
    "#Free acid calculation\n",
    "pelargonium[\"FA\"] = ((0.00001 * pelargonium[\"VNaOH\"] / 1000) * 3.5) / (pelargonium[\"FW\"] / 1000) * 1000000\n",
    "print(pelargonium.info()) #check if 'FA' column successfully added to the code\n"
   ]
  },
  {
   "cell_type": "markdown",
   "metadata": {},
   "source": [
    "Now the next step is to:\n",
    "\n",
    "1) Calculate the average FA for each probe, species, treatment, timepoint and time of day combination.\n",
    "\n",
    "2) Create a new dataframe for calculations, with distinct data averages for morning and evening average FA.\n",
    "\n",
    "I think the code I wrote to do this in R is perhaps inefficient, although it worked nonetheless.\n",
    "\n",
    "Also note, removal of the \"time_of_day\" variable was done to enable the merging of the FA_morning and FA_evening datasets, allowing direct relative calculations. "
   ]
  },
  {
   "cell_type": "code",
   "execution_count": 71,
   "metadata": {},
   "outputs": [
    {
     "name": "stdout",
     "output_type": "stream",
     "text": [
      "    timepoint                        species  \\\n",
      "0           0      Pelargonium caucalifolium   \n",
      "1           0      Pelargonium caucalifolium   \n",
      "2           0     Pelargonium quinquelobatum   \n",
      "3           0     Pelargonium quinquelobatum   \n",
      "4           0      Pelargonium transvaalense   \n",
      "5           0      Pelargonium transvaalense   \n",
      "6           1  Pelargonium tetragonum (leaf)   \n",
      "7           1  Pelargonium tetragonum (leaf)   \n",
      "8           1  Pelargonium tetragonum (stem)   \n",
      "9           1  Pelargonium tetragonum (stem)   \n",
      "10          2  Pelargonium tetragonum (leaf)   \n",
      "11          2  Pelargonium tetragonum (leaf)   \n",
      "12          2  Pelargonium tetragonum (stem)   \n",
      "13          2  Pelargonium tetragonum (stem)   \n",
      "14          3  Pelargonium tetragonum (leaf)   \n",
      "15          3  Pelargonium tetragonum (leaf)   \n",
      "16          3  Pelargonium tetragonum (stem)   \n",
      "17          3  Pelargonium tetragonum (stem)   \n",
      "18          4  Pelargonium tetragonum (leaf)   \n",
      "19          4  Pelargonium tetragonum (leaf)   \n",
      "20          4  Pelargonium tetragonum (stem)   \n",
      "21          4  Pelargonium tetragonum (stem)   \n",
      "\n",
      "                               species_treatment time_of_day       probe  \\\n",
      "0       Pelargonium caucalifolium (cool-drought)     evening       CAU_Z   \n",
      "1       Pelargonium caucalifolium (cool-drought)     morning       CAU_Z   \n",
      "2      Pelargonium quinquelobatum (cold-drought)     evening       QUI_Z   \n",
      "3      Pelargonium quinquelobatum (cold-drought)     morning       QUI_Z   \n",
      "4       Pelargonium transvaalense (cool-drought)     evening       TRA_Z   \n",
      "5       Pelargonium transvaalense (cool-drought)     morning       TRA_Z   \n",
      "6   Pelargonium tetragonum (cool-drought) (leaf)     evening    TETleafI   \n",
      "7   Pelargonium tetragonum (cool-drought) (leaf)     morning    TETleafI   \n",
      "8   Pelargonium tetragonum (cool-drought) (stem)     evening    TETstemI   \n",
      "9   Pelargonium tetragonum (cool-drought) (stem)     morning    TETstemI   \n",
      "10  Pelargonium tetragonum (cool-drought) (leaf)     evening   TETleafII   \n",
      "11  Pelargonium tetragonum (cool-drought) (leaf)     morning   TETleafII   \n",
      "12  Pelargonium tetragonum (cool-drought) (stem)     evening   TETstemII   \n",
      "13  Pelargonium tetragonum (cool-drought) (stem)     morning   TETstemII   \n",
      "14  Pelargonium tetragonum (cool-drought) (leaf)     evening  TETleafIII   \n",
      "15  Pelargonium tetragonum (cool-drought) (leaf)     morning  TETleafIII   \n",
      "16  Pelargonium tetragonum (cool-drought) (stem)     evening  TETstemIII   \n",
      "17  Pelargonium tetragonum (cool-drought) (stem)     morning  TETstemIII   \n",
      "18  Pelargonium tetragonum (cool-drought) (leaf)     evening   TETleafIV   \n",
      "19  Pelargonium tetragonum (cool-drought) (leaf)     morning   TETleafIV   \n",
      "20  Pelargonium tetragonum (cool-drought) (stem)     evening   TETstemIV   \n",
      "21  Pelargonium tetragonum (cool-drought) (stem)     morning   TETstemIV   \n",
      "\n",
      "     average_FA  \n",
      "0    352.611940  \n",
      "1    396.895425  \n",
      "2    291.666667  \n",
      "3    233.726150  \n",
      "4    296.223958  \n",
      "5    318.976280  \n",
      "6    432.181702  \n",
      "7    416.833001  \n",
      "8    245.402299  \n",
      "9    233.333333  \n",
      "10   265.342960  \n",
      "11   421.810700  \n",
      "12   220.489297  \n",
      "13   360.352673  \n",
      "14   395.652174  \n",
      "15   328.787879  \n",
      "16   171.029668  \n",
      "17   286.324786  \n",
      "18  1781.170483  \n",
      "19   469.614922  \n",
      "20   174.454829  \n",
      "21   286.285363  \n"
     ]
    }
   ],
   "source": [
    "# 1 Calculate average_FA for specified variables as a new dataframe\n",
    "pelargonium_average_FA = pelargonium.groupby([\"timepoint\", \"species\", \"species_treatment\", \"time_of_day\", \"probe\"])[\"FA\"].mean().reset_index()\n",
    "pelargonium_average_FA.rename(columns={\"FA\": \"average_FA\"}, inplace=True)\n",
    "print(pelargonium_average_FA) #check whether average FA calculation successfully added "
   ]
  },
  {
   "cell_type": "code",
   "execution_count": 72,
   "metadata": {},
   "outputs": [
    {
     "name": "stdout",
     "output_type": "stream",
     "text": [
      "<class 'pandas.core.frame.DataFrame'>\n",
      "Index: 11 entries, 0 to 20\n",
      "Data columns (total 5 columns):\n",
      " #   Column              Non-Null Count  Dtype  \n",
      "---  ------              --------------  -----  \n",
      " 0   timepoint           11 non-null     int64  \n",
      " 1   species             11 non-null     object \n",
      " 2   species_treatment   11 non-null     object \n",
      " 3   probe               11 non-null     object \n",
      " 4   average_evening_FA  11 non-null     float64\n",
      "dtypes: float64(1), int64(1), object(3)\n",
      "memory usage: 528.0+ bytes\n",
      "None\n",
      "<class 'pandas.core.frame.DataFrame'>\n",
      "Index: 11 entries, 1 to 21\n",
      "Data columns (total 5 columns):\n",
      " #   Column              Non-Null Count  Dtype  \n",
      "---  ------              --------------  -----  \n",
      " 0   timepoint           11 non-null     int64  \n",
      " 1   species             11 non-null     object \n",
      " 2   species_treatment   11 non-null     object \n",
      " 3   probe               11 non-null     object \n",
      " 4   average_morning_FA  11 non-null     float64\n",
      "dtypes: float64(1), int64(1), object(3)\n",
      "memory usage: 528.0+ bytes\n",
      "None\n"
     ]
    }
   ],
   "source": [
    "# 2 Split dataframe by morning and evening, renaming average_FA accordingly \n",
    "\n",
    "pelargonium_average_FA_evening = pelargonium_average_FA[pelargonium_average_FA[\"time_of_day\"] == \"evening\"].copy() #this creates a new dataframe which is identical to pelargonium_average_FA but filtered to only include time of day = evening #.copy creates a new df  \n",
    "pelargonium_average_FA_evening.rename(columns={\"average_FA\": \"average_evening_FA\"}, inplace=True) #rename for accuracy, and also so we can repeat calculation on morning (then rename it appropiately)\n",
    "pelargonium_average_FA_evening.drop(\"time_of_day\", axis=1, inplace=True) #the dataframe.drop command removes a column... axis = 1 means remove the column, but we can use axis = 0 to remove a row... inplace=TRUE means replace the dataframe\n",
    "print(pelargonium_average_FA_evening.info())\n",
    "\n",
    "pelargonium_average_FA_morning = pelargonium_average_FA[pelargonium_average_FA[\"time_of_day\"] == \"morning\"].copy()\n",
    "pelargonium_average_FA_morning.rename(columns={\"average_FA\": \"average_morning_FA\"}, inplace =True)\n",
    "pelargonium_average_FA_morning.drop(\"time_of_day\", axis=1, inplace=True)\n",
    "print(pelargonium_average_FA_morning.info())"
   ]
  },
  {
   "cell_type": "code",
   "execution_count": 73,
   "metadata": {},
   "outputs": [
    {
     "name": "stdout",
     "output_type": "stream",
     "text": [
      "                          species  percentage_difference  absolute_difference\n",
      "0       Pelargonium caucalifolium              12.558702            44.283485\n",
      "1      Pelargonium quinquelobatum             -19.865320           -57.940516\n",
      "2       Pelargonium transvaalense               7.680784            22.752321\n",
      "3   Pelargonium tetragonum (leaf)              -3.551446           -15.348701\n",
      "4   Pelargonium tetragonum (stem)              -4.918033           -12.068966\n",
      "5   Pelargonium tetragonum (leaf)              58.968114           156.467739\n",
      "6   Pelargonium tetragonum (stem)              63.433182           139.863377\n",
      "7   Pelargonium tetragonum (leaf)             -16.899767           -66.864295\n",
      "8   Pelargonium tetragonum (stem)              67.412350           115.295118\n",
      "9   Pelargonium tetragonum (leaf)             -73.634477         -1311.555562\n",
      "10  Pelargonium tetragonum (stem)              64.102860           111.830534\n"
     ]
    }
   ],
   "source": [
    "#Now merge the two datasets and calculate the 1) ABsolute difference in values, 2) Percentage(relative) difference in values\n",
    "pelargonium_calculations = pd.merge(pelargonium_average_FA_evening, pelargonium_average_FA_morning, on=[\"timepoint\", \"species\", \"species_treatment\", \"probe\"])\n",
    "pelargonium_calculations[\"absolute_difference\"] = pelargonium_calculations[\"average_morning_FA\"] - pelargonium_calculations[\"average_evening_FA\"]\n",
    "pelargonium_calculations[\"percentage_difference\"] = ((pelargonium_calculations[\"average_morning_FA\"] - pelargonium_calculations[\"average_evening_FA\"]) / pelargonium_calculations[\"average_evening_FA\"]) * 100\n",
    "print(pelargonium_calculations[[\"species\",\"percentage_difference\",\"absolute_difference\"]]) #the double [[]] lets me choose which columns to list, note that this doesn't impact the data itself, values match R calcs\n"
   ]
  },
  {
   "cell_type": "markdown",
   "metadata": {},
   "source": [
    "Now the calculations are completed, the next step is to visualise data. \n",
    "\n",
    "As I was constrained for time, and unfortunately didn't finish the full set of results for Pelargonium, I only analysed P. tetragonium for both leaf and stem samples. Hence, the next step is to:\n",
    "\n",
    "1) Filter results to be specific to P. tetragonium (stem) and P. tetragonium (leaf) \n",
    "2) Plot a graph for both, including: \n",
    "    - X axis = timepoint\n",
    "    - Y axis = average_fa\n",
    "    - Plotted as column/bar chart\n",
    "    - Coloured bar charts by time of day\n",
    "    - A orange line to signal the absolute difference between morning/night samples\n",
    "    - A black line to signal the relative percentage difference between morning and night samples.\n",
    "    "
   ]
  },
  {
   "cell_type": "code",
   "execution_count": 74,
   "metadata": {},
   "outputs": [
    {
     "name": "stdout",
     "output_type": "stream",
     "text": [
      "<class 'pandas.core.frame.DataFrame'>\n",
      "Index: 8 entries, 6 to 19\n",
      "Data columns (total 6 columns):\n",
      " #   Column             Non-Null Count  Dtype  \n",
      "---  ------             --------------  -----  \n",
      " 0   timepoint          8 non-null      int64  \n",
      " 1   species            8 non-null      object \n",
      " 2   species_treatment  8 non-null      object \n",
      " 3   time_of_day        8 non-null      object \n",
      " 4   probe              8 non-null      object \n",
      " 5   average_FA         8 non-null      float64\n",
      "dtypes: float64(1), int64(1), object(4)\n",
      "memory usage: 448.0+ bytes\n",
      "None\n",
      "<class 'pandas.core.frame.DataFrame'>\n",
      "Index: 4 entries, 3 to 9\n",
      "Data columns (total 8 columns):\n",
      " #   Column                 Non-Null Count  Dtype  \n",
      "---  ------                 --------------  -----  \n",
      " 0   timepoint              4 non-null      int64  \n",
      " 1   species                4 non-null      object \n",
      " 2   species_treatment      4 non-null      object \n",
      " 3   probe                  4 non-null      object \n",
      " 4   average_evening_FA     4 non-null      float64\n",
      " 5   average_morning_FA     4 non-null      float64\n",
      " 6   absolute_difference    4 non-null      float64\n",
      " 7   percentage_difference  4 non-null      float64\n",
      "dtypes: float64(4), int64(1), object(3)\n",
      "memory usage: 288.0+ bytes\n",
      "None\n",
      "<class 'pandas.core.frame.DataFrame'>\n",
      "Index: 8 entries, 8 to 21\n",
      "Data columns (total 6 columns):\n",
      " #   Column             Non-Null Count  Dtype  \n",
      "---  ------             --------------  -----  \n",
      " 0   timepoint          8 non-null      int64  \n",
      " 1   species            8 non-null      object \n",
      " 2   species_treatment  8 non-null      object \n",
      " 3   time_of_day        8 non-null      object \n",
      " 4   probe              8 non-null      object \n",
      " 5   average_FA         8 non-null      float64\n",
      "dtypes: float64(1), int64(1), object(4)\n",
      "memory usage: 448.0+ bytes\n",
      "None\n",
      "<class 'pandas.core.frame.DataFrame'>\n",
      "Index: 4 entries, 4 to 10\n",
      "Data columns (total 8 columns):\n",
      " #   Column                 Non-Null Count  Dtype  \n",
      "---  ------                 --------------  -----  \n",
      " 0   timepoint              4 non-null      int64  \n",
      " 1   species                4 non-null      object \n",
      " 2   species_treatment      4 non-null      object \n",
      " 3   probe                  4 non-null      object \n",
      " 4   average_evening_FA     4 non-null      float64\n",
      " 5   average_morning_FA     4 non-null      float64\n",
      " 6   absolute_difference    4 non-null      float64\n",
      " 7   percentage_difference  4 non-null      float64\n",
      "dtypes: float64(4), int64(1), object(3)\n",
      "memory usage: 288.0+ bytes\n",
      "None\n"
     ]
    }
   ],
   "source": [
    "#Filtering by P. tetragonium  leaf and stem \n",
    "pelargonium_tet_leaf_col = pelargonium_average_FA[pelargonium_average_FA[\"species\"] == \"Pelargonium tetragonum (leaf)\"]\n",
    "pelargonium_tet_leaf_point = pelargonium_calculations[pelargonium_calculations[\"species\"] == \"Pelargonium tetragonum (leaf)\"]\n",
    "print(pelargonium_tet_leaf_col.info())\n",
    "print(pelargonium_tet_leaf_point.info())\n",
    "\n",
    "pelargonium_tet_stem_col = pelargonium_average_FA[pelargonium_average_FA[\"species\"] == \"Pelargonium tetragonum (stem)\"]\n",
    "pelargonium_tet_stem_point = pelargonium_calculations[pelargonium_calculations[\"species\"] == \"Pelargonium tetragonum (stem)\"]\n",
    "print(pelargonium_tet_stem_col.info())\n",
    "print(pelargonium_tet_stem_point.info())\n",
    "\n",
    "#creating directories for these graphs \n",
    "os.makedirs(\"graphs\", exist_ok=True) #create a new directory (within current working directory) called graphs, exist_ok=True removes an error if this already exists\n",
    "os.makedirs(\"graphs/Pelargonium\", exist_ok=True) #create a new directory within \"graphs\" called \"Pelargonium\""
   ]
  },
  {
   "cell_type": "markdown",
   "metadata": {},
   "source": []
  },
  {
   "cell_type": "code",
   "execution_count": 77,
   "metadata": {},
   "outputs": [
    {
     "name": "stdout",
     "output_type": "stream",
     "text": [
      "                          species  timepoint\n",
      "6   Pelargonium tetragonum (leaf)          1\n",
      "7   Pelargonium tetragonum (leaf)          1\n",
      "10  Pelargonium tetragonum (leaf)          2\n",
      "11  Pelargonium tetragonum (leaf)          2\n",
      "14  Pelargonium tetragonum (leaf)          3\n",
      "15  Pelargonium tetragonum (leaf)          3\n",
      "18  Pelargonium tetragonum (leaf)          4\n",
      "19  Pelargonium tetragonum (leaf)          4\n",
      "                         species  timepoint\n",
      "3  Pelargonium tetragonum (leaf)          1\n",
      "5  Pelargonium tetragonum (leaf)          2\n",
      "7  Pelargonium tetragonum (leaf)          3\n",
      "9  Pelargonium tetragonum (leaf)          4\n",
      "pelargonium_tet_leaf_col data types: int64\n",
      "pelargonium_tet_leaf_point data types: int64\n"
     ]
    }
   ],
   "source": [
    "#Having error where the _point scatterplots are 1 timepoint too high, checking why this may be:\n",
    "print(pelargonium_tet_leaf_col[[\"species\",\"timepoint\"]])\n",
    "print(pelargonium_tet_leaf_point[[\"species\",\"timepoint\"]]) \n",
    "#...looks like it should be fine\n",
    "print(\"pelargonium_tet_leaf_col data types:\", pelargonium_tet_leaf_col[\"timepoint\"].dtypes)\n",
    "print(\"pelargonium_tet_leaf_point data types:\", pelargonium_tet_leaf_point[\"timepoint\"].dtypes)\n",
    "\n"
   ]
  },
  {
   "cell_type": "code",
   "execution_count": 84,
   "metadata": {},
   "outputs": [
    {
     "data": {
      "image/png": "[encoded data removed]",
      "text/plain": [
       "<Figure size 432x288 with 1 Axes>"
      ]
     },
     "metadata": {},
     "output_type": "display_data"
    }
   ],
   "source": [
    "#P. tetragonium (leaf) graph. plt = matplotlib, sns = seaborn packages\n",
    "plt.figure() \n",
    "colors = {\"morning\": \"#619CFF\", \"evening\":  \"#F8766D\"}\n",
    "sns.barplot(data=pelargonium_tet_leaf_col, x=\"timepoint\", y=\"average_FA\", hue=\"time_of_day\",palette = colors) #for barplots\n",
    "sns.pointplot(data=pelargonium_tet_leaf_point, x=\"timepoint\", y=\"absolute_difference\", color=\"orange\", scale=0.5)\n",
    "sns.pointplot(data=pelargonium_tet_leaf_point, x=\"timepoint\", y=\"percentage_difference\", color=\"black\", scale=0.5)\n",
    "plt.legend(title=\"Time of day\", bbox_to_anchor=(1.05, 1), loc='upper left')\n",
    "plt.suptitle(pelargonium_tet_leaf_col['species_treatment'].unique()[0]) \n",
    "plt.savefig(\"graphs/Pelargonium/Pelargonium_Tetragonum_leaf.png\", bbox_inches='tight', facecolor='white') #face color specifies background color\n",
    "\n",
    "#I was trying this graph with sns.scatterplot at first, but was adding an plotting 1 too high on timepoint (i.e. 2,3,4,5) despite it not existing\n",
    "#Scatterplot works numerical x numerical, while pointplot works categorical x numerical, so perhaps that's why it worked better? \n"
   ]
  },
  {
   "cell_type": "code",
   "execution_count": 86,
   "metadata": {},
   "outputs": [
    {
     "data": {
      "image/png": "[encoded data removed]",
      "text/plain": [
       "<Figure size 432x288 with 1 Axes>"
      ]
     },
     "metadata": {},
     "output_type": "display_data"
    }
   ],
   "source": [
    "plt.figure() \n",
    "colors = {\"morning\": \"#619CFF\", \"evening\":  \"#F8766D\"}\n",
    "sns.barplot(data=pelargonium_tet_leaf_col, x=\"timepoint\", y=\"average_FA\", hue=\"time_of_day\", palette = colors) #for barplots\n",
    "sns.pointplot(data=pelargonium_tet_leaf_point, x=\"timepoint\", y=\"absolute_difference\", color=\"orange\", scale=0.5)\n",
    "sns.pointplot(data=pelargonium_tet_leaf_point, x=\"timepoint\", y=\"percentage_difference\", color=\"black\", scale=0.5)\n",
    "plt.legend(title=\"Time of day\", bbox_to_anchor=(1.05, 1), loc='upper left')\n",
    "plt.suptitle(pelargonium_tet_leaf_col['species_treatment'].unique()[0]) \n",
    "plt.savefig(\"graphs/Pelargonium/Pelargonium_Tetragonum_leaf.png\", bbox_inches='tight', facecolor='white') #face color specifies background color\n",
    "\n",
    "#I was trying this graph with sns.scatterplot at first, but was adding an plotting 1 too high on timepoint (i.e. 2,3,4,5) despite it not existing\n",
    "#Scatterplot works numerical x numerical, while pointplot works categorical x numerical, so perhaps that's why it worked better? \n"
   ]
  },
  {
   "cell_type": "code",
   "execution_count": 87,
   "metadata": {},
   "outputs": [
    {
     "data": {
      "image/png": "[encoded data removed]",
      "text/plain": [
       "<Figure size 432x288 with 1 Axes>"
      ]
     },
     "metadata": {},
     "output_type": "display_data"
    }
   ],
   "source": [
    "#P. tetragonium (stem) graph. plt = matplotlib, sns = seaborn packages\n",
    "plt.figure() \n",
    "colors = {\"morning\": \"#619CFF\", \"evening\":  \"#F8766D\"}\n",
    "sns.barplot(data=pelargonium_tet_stem_col, x=\"timepoint\", y=\"average_FA\", hue=\"time_of_day\", palette = colors) #for barplots\n",
    "sns.pointplot(data=pelargonium_tet_stem_point, x=\"timepoint\", y=\"absolute_difference\", color=\"orange\", scale=0.5)\n",
    "sns.pointplot(data=pelargonium_tet_stem_point, x=\"timepoint\", y=\"percentage_difference\", color=\"black\", scale=0.5)\n",
    "plt.legend(title=\"Time of day\", bbox_to_anchor=(1.05, 1), loc='upper left')\n",
    "plt.suptitle(pelargonium_tet_stem_col['species_treatment'].unique()[0]) \n",
    "plt.savefig(\"graphs/Pelargonium/Pelargonium_Tetragonum_stem.png\", bbox_inches='tight', facecolor='white') #face color specifies background color\n",
    " \n"
   ]
  }
 ],
 "metadata": {
  "kernelspec": {
   "display_name": "Python 3",
   "language": "python",
   "name": "python3"
  },
  "language_info": {
   "codemirror_mode": {
    "name": "ipython",
    "version": 3
   },
   "file_extension": ".py",
   "mimetype": "text/x-python",
   "name": "python",
   "nbconvert_exporter": "python",
   "pygments_lexer": "ipython3",
   "version": "3.10.6"
  },
  "orig_nbformat": 4
 },
 "nbformat": 4,
 "nbformat_minor": 2
}
